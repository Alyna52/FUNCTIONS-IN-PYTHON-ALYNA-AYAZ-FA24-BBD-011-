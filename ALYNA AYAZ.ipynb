{
 "cells": [
  {
   "cell_type": "code",
   "execution_count": 11,
   "id": "840952d7",
   "metadata": {},
   "outputs": [
    {
     "name": "stdout",
     "output_type": "stream",
     "text": [
      "Hello, Alyna the time is 12 o'clock\n"
     ]
    }
   ],
   "source": [
    "#ALYNA AYAZ\n",
    "#ROLL NUMBER: FA24-BBD-011\n",
    "\n",
    "\n",
    "#QUESTION NUMBER 1: \n",
    "\n",
    "def greet_with_time(name, time):\n",
    "    print(f\"Hello, {name} the time is {time}\")\n",
    "greet_with_time(\"Alyna\", \"12 o'clock\")    \n",
    "    "
   ]
  },
  {
   "cell_type": "code",
   "execution_count": 20,
   "id": "c43e5e01",
   "metadata": {},
   "outputs": [
    {
     "name": "stdout",
     "output_type": "stream",
     "text": [
      "The average is: 29.333333333333332.\n"
     ]
    }
   ],
   "source": [
    "#QUESTION NUMBER 2:\n",
    "\n",
    "def calculate_average(number1, number2, number3):\n",
    "    average = (number1 + number2 + number3)/3\n",
    "    return average\n",
    "result= calculate_average(23,55,10)\n",
    "print(f\"The average is: {result}.\")"
   ]
  },
  {
   "cell_type": "code",
   "execution_count": 23,
   "id": "96ffe9a0",
   "metadata": {},
   "outputs": [
    {
     "name": "stdout",
     "output_type": "stream",
     "text": [
      "The original price was 300\n",
      "The price after discount is: 270.0\n"
     ]
    }
   ],
   "source": [
    "#QUESTION NUMBER 3:\n",
    "\n",
    "def calculate_discount(price, dis= 10):\n",
    "    discount = (price * dis)/100\n",
    "    final_price = price - discount\n",
    "    return final_price\n",
    "print(\"The original price was 300\")\n",
    "a = calculate_discount(300)\n",
    "print(f\"The price after discount is: {a}\")    \n",
    "\n",
    "    "
   ]
  },
  {
   "cell_type": "code",
   "execution_count": 28,
   "id": "e8a038ff",
   "metadata": {},
   "outputs": [
    {
     "name": "stdout",
     "output_type": "stream",
     "text": [
      "Name : Alyna Ayaz Malik\n",
      "Age : 19\n",
      "City : Lahore\n"
     ]
    }
   ],
   "source": [
    "#QUESTION NUMBER 4:\n",
    "\n",
    "def print_info(name, age, city):\n",
    "    print(f\"Name : {name}\")\n",
    "    print(f\"Age : {age}\")\n",
    "    print(f\"City : {city}\")\n",
    "print_info(\"Alyna Ayaz Malik\" , 19 , \"Lahore\")    \n"
   ]
  },
  {
   "cell_type": "code",
   "execution_count": 34,
   "id": "f3279a92",
   "metadata": {},
   "outputs": [
    {
     "name": "stdout",
     "output_type": "stream",
     "text": [
      "The maximum number is: 800\n"
     ]
    }
   ],
   "source": [
    "#QUESTION NUMBER 5:\n",
    "\n",
    "def find_max(*arguments):\n",
    "    return max(arguments)\n",
    "\n",
    "max_num = find_max(10, 344, 700, 800)\n",
    "print(f\"The maximum number is: {max_num}\")\n"
   ]
  },
  {
   "cell_type": "code",
   "execution_count": 35,
   "id": "d0dc1d9b",
   "metadata": {},
   "outputs": [
    {
     "name": "stdout",
     "output_type": "stream",
     "text": [
      "40320\n"
     ]
    }
   ],
   "source": [
    "#QUESTION NUMBER 6:\n",
    "\n",
    "def factorial(n):\n",
    "    if n == 0 or n ==1:\n",
    "        return 1\n",
    "    else:\n",
    "        return n * factorial(n-1)\n",
    "print(factorial(8))    "
   ]
  },
  {
   "cell_type": "code",
   "execution_count": 44,
   "id": "2a593e27",
   "metadata": {},
   "outputs": [
    {
     "name": "stdout",
     "output_type": "stream",
     "text": [
      "[40320, 1, 2, 362880]\n"
     ]
    }
   ],
   "source": [
    "#QUESTION NUMBER 7:\n",
    "\n",
    "def apply_function(function,  numbers):\n",
    "    return [function(num) for num in numbers]\n",
    "    if n == 0 or n ==1:\n",
    "        return 1\n",
    "    else:\n",
    "        return n * factorial(n-1)\n",
    "r = apply_function(factorial,[8,1,2,9])\n",
    "print(r)\n"
   ]
  },
  {
   "cell_type": "code",
   "execution_count": 45,
   "id": "d89c1dbc",
   "metadata": {},
   "outputs": [
    {
     "name": "stdout",
     "output_type": "stream",
     "text": [
      "310249\n"
     ]
    }
   ],
   "source": [
    "#QUESTION NUMBER 8:\n",
    "\n",
    "square = lambda num: num**2\n",
    "print(square(557))"
   ]
  },
  {
   "cell_type": "code",
   "execution_count": 46,
   "id": "f5dbf2df",
   "metadata": {},
   "outputs": [
    {
     "name": "stdout",
     "output_type": "stream",
     "text": [
      "[100, 4, 36, 144, 16]\n"
     ]
    }
   ],
   "source": [
    "#QUESTION NUMBER 9:\n",
    "\n",
    "def apply_operation(func, numbers):\n",
    "    return [func(number) for number in numbers]\n",
    "\n",
    "def square(x):\n",
    "    return x * x\n",
    "\n",
    "numbers = [10, 2, 6, 12, 4]\n",
    "result = apply_operation(square, numbers)\n",
    "print(result)  "
   ]
  },
  {
   "cell_type": "code",
   "execution_count": 47,
   "id": "d5aa4cce",
   "metadata": {},
   "outputs": [
    {
     "name": "stdout",
     "output_type": "stream",
     "text": [
      "Execution time: 0.06696081161499023 seconds\n"
     ]
    }
   ],
   "source": [
    "#QUESTION NUMBER 10: \n",
    "\n",
    "import time\n",
    "def measure_time(func):\n",
    "    def wrapper():\n",
    "        start_time = time.time() \n",
    "        func()  \n",
    "        end_time = time.time() \n",
    "        print(\"Execution time:\", end_time - start_time, \"seconds\")\n",
    "    return wrapper\n",
    "\n",
    "\n",
    "@measure_time\n",
    "def my_function():\n",
    "    total = 0\n",
    "    for i in range(1, 1000000):\n",
    "        total += i\n",
    "    return total\n",
    "\n",
    "my_function()"
   ]
  },
  {
   "cell_type": "code",
   "execution_count": null,
   "id": "e43153cf",
   "metadata": {},
   "outputs": [],
   "source": []
  }
 ],
 "metadata": {
  "kernelspec": {
   "display_name": "Python 3 (ipykernel)",
   "language": "python",
   "name": "python3"
  },
  "language_info": {
   "codemirror_mode": {
    "name": "ipython",
    "version": 3
   },
   "file_extension": ".py",
   "mimetype": "text/x-python",
   "name": "python",
   "nbconvert_exporter": "python",
   "pygments_lexer": "ipython3",
   "version": "3.11.5"
  }
 },
 "nbformat": 4,
 "nbformat_minor": 5
}
